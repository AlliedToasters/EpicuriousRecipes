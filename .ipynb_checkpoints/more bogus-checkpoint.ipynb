{
 "cells": [
  {
   "cell_type": "code",
   "execution_count": null,
   "metadata": {
    "collapsed": true,
    "run_control": {
     "frozen": false,
     "read_only": false
    }
   },
   "outputs": [],
   "source": [
    "import numpy as np\n",
    "import pandas as pd\n",
    "import scipy\n",
    "import matplotlib.pyplot as plt\n",
    "import seaborn as sns\n",
    "from sklearn.svm import SVC\n",
    "from sklearn.model_selection import cross_val_score, GridSearchCV\n",
    "from math import e\n",
    "%matplotlib inline\n"
   ]
  },
  {
   "cell_type": "markdown",
   "metadata": {
    "run_control": {
     "frozen": false,
     "read_only": false
    }
   },
   "source": [
    "Epicurious data from [Kaggle](https://www.kaggle.com/hugodarwood/epirecipes). "
   ]
  },
  {
   "cell_type": "code",
   "execution_count": null,
   "metadata": {
    "run_control": {
     "frozen": false,
     "read_only": false
    }
   },
   "outputs": [],
   "source": [
    "raw_data = pd.read_csv('epi_r.csv')\n",
    "full = pd.read_json('full_format_recipes.json')\n",
    "\n",
    "missing = []\n",
    "for row in raw_data.index:\n",
    "    if raw_data.loc[row].title not in list(full.title):\n",
    "        missing.append(row)\n",
    "        \n",
    "\n",
    "print('dropping {} rows...'.format(len(missing)))\n",
    "for row in missing:\n",
    "    raw_data = raw_data.drop(row)\n",
    "    \n",
    "full_ind = []\n",
    "for row in raw_data.index:\n",
    "    full_ind.append(list(full[full.title==raw_data.loc[row].title].index)[0])\n",
    "    \n",
    "categories = []\n",
    "directions = []\n",
    "ingredients = []\n",
    "for i in full_ind:\n",
    "    row = full.loc[i]\n",
    "    cat, dr, ing = row.categories, row.directions, row.ingredients\n",
    "    categories.append(cat)\n",
    "    directions.append(dr)\n",
    "    ingredients.append(ing)\n",
    "    \n",
    "raw_data['full_cats'] = categories\n",
    "raw_data['full_dir'] = directions\n",
    "raw_data['full_ingr'] = ingredients\n",
    "\n",
    "raw_data['four_stars'] = np.where(raw_data.rating>4, 1, 0)"
   ]
  },
  {
   "cell_type": "code",
   "execution_count": null,
   "metadata": {
    "collapsed": true,
    "run_control": {
     "frozen": false,
     "read_only": false
    },
    "scrolled": true
   },
   "outputs": [],
   "source": [
    "categories = set()\n",
    "for row in raw_data.index:\n",
    "    categories = categories.union(set(raw_data.loc[row].full_cats))"
   ]
  },
  {
   "cell_type": "code",
   "execution_count": null,
   "metadata": {
    "run_control": {
     "frozen": false,
     "read_only": false
    },
    "scrolled": false
   },
   "outputs": [],
   "source": [
    "raw_data.loc[5001].full_dir"
   ]
  },
  {
   "cell_type": "code",
   "execution_count": null,
   "metadata": {
    "collapsed": true
   },
   "outputs": [],
   "source": [
    "bin_ft = list(raw_data.columns)\n",
    "bin_ft.remove('four_stars')\n",
    "bin_ft.remove('title')\n",
    "bin_ft.remove('rating')\n",
    "bin_ft.remove('calories')\n",
    "bin_ft.remove('fat')\n",
    "bin_ft.remove('protein')\n",
    "bin_ft.remove('sodium')\n",
    "bin_ft.remove('full_dir')\n",
    "bin_ft.remove('full_cats')\n",
    "bin_ft.remove('full_ingr')"
   ]
  },
  {
   "cell_type": "code",
   "execution_count": null,
   "metadata": {
    "collapsed": true
   },
   "outputs": [],
   "source": [
    "cat = []\n",
    "mean_rating = []\n",
    "rating_std = []\n",
    "freq = []\n",
    "for ft in bin_ft:\n",
    "    cat.append(ft)\n",
    "    df = raw_data[raw_data[ft]==1]\n",
    "    mean_rating.append(df.rating.mean())\n",
    "    rating_std.append(df.rating.std())\n",
    "    freq.append(len(df))\n",
    "    \n",
    "result=pd.DataFrame()\n",
    "result['category'] = cat\n",
    "result['mean_rating'] = mean_rating\n",
    "result['rating_std'] = rating_std\n",
    "result['freq'] = freq"
   ]
  },
  {
   "cell_type": "code",
   "execution_count": null,
   "metadata": {},
   "outputs": [],
   "source": [
    "result.loc[result[result.freq>3].mean_rating.idxmax()]"
   ]
  },
  {
   "cell_type": "code",
   "execution_count": null,
   "metadata": {},
   "outputs": [],
   "source": [
    "def get_features(result, min_freq=500, n_features=30):\n",
    "    df = result.loc[result[result.freq >= min_freq].mean_rating.sort_values(ascending=False).index]\n",
    "    cutoff = int(n_features/2)\n",
    "    df_top = list(df[:cutoff].category)\n",
    "    df_bom = list(df[-cutoff:].category)\n",
    "    return df_top + df_bom\n",
    "\n",
    "get_features(result, n_features=14)"
   ]
  },
  {
   "cell_type": "code",
   "execution_count": null,
   "metadata": {},
   "outputs": [],
   "source": [
    "freq_prm = []\n",
    "num_ft = []\n",
    "mean_score = []\n",
    "sc_std = []\n",
    "\n",
    "for freq in range(100, 2000, 100):\n",
    "    for num in range(4, 30, 2):\n",
    "        num_ft.append(num)\n",
    "        freq_prm.append(freq)\n",
    "        features = get_features(result, min_freq=freq, n_features=num)\n",
    "        samp = raw_data.sample(frac=.1, random_state=100)\n",
    "        Y = samp.four_stars\n",
    "        X = samp[features]\n",
    "        svc = SVC()\n",
    "        scores = cross_val_score(svc, X, Y, cv=5)\n",
    "        print('freq: {}, n: {},  mean score: {}+/-{}'.format(freq, num, scores.mean(), scores.std()))\n",
    "        mean_score.append(scores.mean())\n",
    "        sc_std.append(scores.std())\n",
    "    \n",
    "ressy = pd.DataFrame()\n",
    "ressy['frequency_param'] = freq_prm\n",
    "ressy['mean_score'] = mean_score\n",
    "ressy['sc_std'] = sc_std\n",
    "ressy['n_features'] = num_ft\n",
    "\n",
    "ressy.loc[ressy.mean_score.idxmax()]"
   ]
  },
  {
   "cell_type": "code",
   "execution_count": null,
   "metadata": {
    "collapsed": true
   },
   "outputs": [],
   "source": [
    "fts = get_features(result, min_freq=1100, n_features=26)\n",
    "\n",
    "fts += list(result.loc[result.freq.sort_values(ascending=False).index][:4].category)\n",
    "\n",
    "X = raw_data[fts]\n",
    "Y = raw_data['four_stars']"
   ]
  },
  {
   "cell_type": "code",
   "execution_count": null,
   "metadata": {},
   "outputs": [],
   "source": [
    "svc = SVC()\n",
    "cross_val_score(svc, X, Y, cv=5)"
   ]
  },
  {
   "cell_type": "code",
   "execution_count": null,
   "metadata": {},
   "outputs": [],
   "source": [
    "samp = raw_data.sample(frac=.2)\n",
    "X = samp[fts]\n",
    "Y = samp.four_stars\n",
    "for rump in range(0, 5):\n",
    "    gm = .011867\n",
    "    c = (10**rump)\n",
    "    mod = SVC(gamma=gm, C=c)\n",
    "    res = pd.Series(cross_val_score(mod, X, Y, cv=5))\n",
    "    print(c, res.mean(), res.std())"
   ]
  },
  {
   "cell_type": "code",
   "execution_count": null,
   "metadata": {},
   "outputs": [],
   "source": [
    "freq_prm = []\n",
    "mean_score = []\n",
    "sc_std = []\n",
    "\n",
    "for freq in range(100, 2000, 100):\n",
    "    freq_prm.append(freq)\n",
    "    features = get_features(result, min_freq=freq)\n",
    "    samp = raw_data.sample(frac=.1, random_state=100)\n",
    "    Y = samp.four_stars\n",
    "    X = samp[features]\n",
    "    svc = SVC()\n",
    "    scores = cross_val_score(svc, X, Y, cv=5)\n",
    "    print('freq: {}  mean score: {}+/-{}'.format(freq, scores.mean(), scores.std()))\n",
    "    mean_score.append(scores.mean())\n",
    "    sc_std.append(scores.std())\n",
    "    \n",
    "ressy = pd.DataFrame()\n",
    "ressy['frequency_param'] = freq_prm\n",
    "ressy['mean_score'] = mean_score\n",
    "ressy['sc_std'] = sc_std\n"
   ]
  },
  {
   "cell_type": "code",
   "execution_count": null,
   "metadata": {},
   "outputs": [],
   "source": [
    "freq_prm = []\n",
    "mean_score = []\n",
    "sc_std = []\n",
    "\n",
    "for freq in range(900, 1100, 10):\n",
    "    freq_prm.append(freq)\n",
    "    features = get_features(result, min_freq=freq)\n",
    "    samp = raw_data.sample(frac=.1, random_state=100)\n",
    "    Y = samp.four_stars\n",
    "    X = samp[features]\n",
    "    svc = SVC()\n",
    "    scores = cross_val_score(svc, X, Y, cv=5)\n",
    "    print('freq: {}  mean score: {}+/-{}'.format(freq, scores.mean(), scores.std()))\n",
    "    mean_score.append(scores.mean())\n",
    "    sc_std.append(scores.std())\n",
    "    \n",
    "ressy = pd.DataFrame()\n",
    "ressy['frequency_param'] = freq_prm\n",
    "ressy['mean_score'] = mean_score\n",
    "ressy['sc_std'] = sc_std"
   ]
  },
  {
   "cell_type": "code",
   "execution_count": null,
   "metadata": {
    "collapsed": true
   },
   "outputs": [],
   "source": [
    "cat = []\n",
    "mean_rating = []\n",
    "rating_std = []\n",
    "zero_rating = []\n",
    "freq = []\n",
    "for ft in bin_ft:\n",
    "    cat.append(ft)\n",
    "    df = raw_data[raw_data[ft]==1]\n",
    "    mean_rating.append(df.rating.mean())\n",
    "    rating_std.append(df.rating.std())\n",
    "    zero_rating.append(len(df[df.rating==0]))\n",
    "    freq.append(len(df))\n",
    "    \n",
    "result=pd.DataFrame()\n",
    "result['category'] = cat\n",
    "result['mean_rating'] = mean_rating\n",
    "result['rating_std'] = rating_std\n",
    "result['freq'] = freq\n",
    "result['zero_rating'] = zero_rating\n",
    "result['zero_prop'] = result.zero_rating/result.freq"
   ]
  },
  {
   "cell_type": "code",
   "execution_count": null,
   "metadata": {},
   "outputs": [],
   "source": [
    "result.loc[result[result.freq>10]['zero_prop'].sort_values(ascending=False).index]"
   ]
  },
  {
   "cell_type": "code",
   "execution_count": null,
   "metadata": {},
   "outputs": [],
   "source": [
    "ft = get_features(result, min_freq=1100, n_features=26)"
   ]
  },
  {
   "cell_type": "code",
   "execution_count": null,
   "metadata": {},
   "outputs": [],
   "source": [
    "svc = SVC()\n",
    "samp = raw_data.sample(frac=.1)\n",
    "X=samp[ft]\n",
    "Y=samp['four_stars']\n",
    "params = {\n",
    "    'gamma': [1, .1, .01, .001],\n",
    "    'C': [1, 10, 100],\n",
    "    'kernel': ['rbf', 'poly', 'sigmoid']\n",
    "}\n",
    "    \n",
    "gs = GridSearchCV(svc, params)\n",
    "\n",
    "gs.fit(X, Y)\n",
    "\n",
    "tb = pd.crosstab(gs.predict(raw_data[ft]), raw_data['four_stars'])\n",
    "print(tb)\n",
    "print((tb.iloc[0,0]+tb.iloc[1,1])/tb.sum().sum())"
   ]
  },
  {
   "cell_type": "code",
   "execution_count": null,
   "metadata": {
    "collapsed": true
   },
   "outputs": [],
   "source": []
  }
 ],
 "metadata": {
  "hide_input": false,
  "kernelspec": {
   "display_name": "Python 3",
   "language": "python",
   "name": "python3"
  },
  "toc": {
   "colors": {
    "hover_highlight": "#DAA520",
    "running_highlight": "#FF0000",
    "selected_highlight": "#FFD700"
   },
   "moveMenuLeft": true,
   "nav_menu": {
    "height": "12px",
    "width": "252px"
   },
   "navigate_menu": true,
   "number_sections": true,
   "sideBar": true,
   "threshold": 4,
   "toc_cell": false,
   "toc_section_display": "block",
   "toc_window_display": false
  }
 },
 "nbformat": 4,
 "nbformat_minor": 2
}
