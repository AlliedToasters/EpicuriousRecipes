{
 "cells": [
  {
   "cell_type": "code",
   "execution_count": 2,
   "metadata": {
    "collapsed": true,
    "run_control": {
     "frozen": false,
     "read_only": false
    }
   },
   "outputs": [],
   "source": [
    "import numpy as np\n",
    "import pandas as pd\n",
    "import scipy\n",
    "import matplotlib.pyplot as plt\n",
    "import seaborn as sns\n",
    "from sklearn.svm import SVC\n",
    "from sklearn.model_selection import cross_val_score, GridSearchCV\n",
    "from sklearn.feature_extraction.text import TfidfVectorizer\n",
    "from sklearn.feature_selection import SelectFromModel\n",
    "from sklearn.ensemble import ExtraTreesClassifier, RandomForestClassifier\n",
    "from math import e\n",
    "%matplotlib inline\n"
   ]
  },
  {
   "cell_type": "markdown",
   "metadata": {
    "run_control": {
     "frozen": false,
     "read_only": false
    }
   },
   "source": [
    "Epicurious data from [Kaggle](https://www.kaggle.com/hugodarwood/epirecipes). "
   ]
  },
  {
   "cell_type": "code",
   "execution_count": 3,
   "metadata": {
    "run_control": {
     "frozen": false,
     "read_only": false
    }
   },
   "outputs": [
    {
     "name": "stdout",
     "output_type": "stream",
     "text": [
      "dropping 5 rows...\n"
     ]
    }
   ],
   "source": [
    "raw_data = pd.read_csv('epi_r.csv')\n",
    "full = pd.read_json('full_format_recipes.json')\n",
    "\n",
    "bin_ft = list(raw_data.columns)\n",
    "bin_ft.remove('title')\n",
    "bin_ft.remove('rating')\n",
    "bin_ft.remove('calories')\n",
    "bin_ft.remove('fat')\n",
    "bin_ft.remove('protein')\n",
    "bin_ft.remove('sodium')\n",
    "\n",
    "missing = []\n",
    "for row in raw_data.index:      #Find recipes missing from full-form set\n",
    "    if raw_data.loc[row].title not in list(full.title):\n",
    "        missing.append(row) \n",
    "        \n",
    "\n",
    "print('dropping {} rows...'.format(len(missing)))\n",
    "for row in missing:             #Drop the recipes without full-form available\n",
    "    raw_data = raw_data.drop(row)\n",
    "    \n",
    "full_ind = []\n",
    "for row in raw_data.index:      #Record indices for each full-form recipe in order of csv\n",
    "    full_ind.append(list(full[full.title==raw_data.loc[row].title].index)[0])\n",
    "\n",
    "#Grab wanted data from complete recipes:\n",
    "categories = []\n",
    "directions = []\n",
    "ingredients = []                \n",
    "for i in full_ind:\n",
    "    row = full.loc[i]\n",
    "    cat, dr, ing = row.categories, row.directions, row.ingredients\n",
    "    categories.append(cat)                          #List of categories\n",
    "    directions.append(dr)                           #List of directions\n",
    "    ingredients.append(ing)                         #List of ingredients\n",
    "    \n",
    "raw_data['full_cats'] = categories                  #append to our df\n",
    "raw_data['full_dir'] = directions\n",
    "raw_data['full_ingr'] = ingredients\n",
    "\n",
    "raw_data['four_stars'] = np.where(raw_data.rating>4, 1, 0)\n",
    "raw_data['no_stars'] = np.where(raw_data.rating==0, 1, 0)"
   ]
  },
  {
   "cell_type": "code",
   "execution_count": null,
   "metadata": {
    "collapsed": true
   },
   "outputs": [],
   "source": []
  },
  {
   "cell_type": "code",
   "execution_count": null,
   "metadata": {
    "collapsed": true
   },
   "outputs": [],
   "source": []
  },
  {
   "cell_type": "code",
   "execution_count": 4,
   "metadata": {
    "collapsed": true,
    "run_control": {
     "frozen": false,
     "read_only": false
    },
    "scrolled": true
   },
   "outputs": [],
   "source": [
    "#Basic features: lengths of ingredients list, instruction steps, complete instructions\n",
    "def get_length(lst):\n",
    "    length = 0\n",
    "    for step in lst:\n",
    "        length += len(step)\n",
    "    return length\n",
    "\n",
    "#consolidates directions from list to single string\n",
    "def get_full_dir(lst):\n",
    "    doc = ''\n",
    "    for step in lst:\n",
    "        doc += step + ' '\n",
    "    return doc\n",
    "\n",
    "#Build features\n",
    "raw_data['n_ingredients'] = raw_data.full_ingr.apply(len)\n",
    "raw_data.n_ingredients = raw_data.n_ingredients/raw_data.n_ingredients.max()\n",
    "raw_data['n_steps'] = raw_data.full_dir.apply(len)\n",
    "raw_data.n_steps = raw_data.n_steps/raw_data.n_steps.max()\n",
    "raw_data['n_words'] = raw_data.full_dir.apply(get_length)\n",
    "raw_data.n_words = raw_data.n_words/raw_data.n_words.max()\n",
    "raw_data['dir_doc'] = raw_data.full_dir.apply(get_full_dir)"
   ]
  },
  {
   "cell_type": "code",
   "execution_count": 10,
   "metadata": {},
   "outputs": [
    {
     "data": {
      "text/plain": [
       "(20047, 5677)"
      ]
     },
     "execution_count": 10,
     "metadata": {},
     "output_type": "execute_result"
    }
   ],
   "source": [
    "#Build tfid vectorizer\n",
    "vctzr = TfidfVectorizer(ngram_range=(1, 3), max_features=5000)\n",
    "vctzr.build_analyzer()\n",
    "\n",
    "#Train on recipe corpus\n",
    "vctzr = vctzr.fit(raw_data.dir_doc)\n",
    "\n",
    "#Get sparse matrix of recipe text features\n",
    "A = vctzr.transform(raw_data.dir_doc)\n",
    "X = np.concatenate([A.todense(), np.array(raw_data[bin_ft + ['n_ingredients', 'n_steps', 'n_words']])], axis=1)\n",
    "Y = raw_data['four_stars']\n",
    "\n",
    "X.shape"
   ]
  },
  {
   "cell_type": "code",
   "execution_count": 12,
   "metadata": {},
   "outputs": [
    {
     "name": "stdout",
     "output_type": "stream",
     "text": [
      "5677\n",
      "(20047, 5677)\n",
      "most important recipe text features:  ['n_ingredients', 'n_words']\n"
     ]
    },
    {
     "name": "stderr",
     "output_type": "stream",
     "text": [
      "/home/alliedtoasters/anaconda3/lib/python3.6/site-packages/sklearn/utils/validation.py:395: DeprecationWarning: Passing 1d arrays as data is deprecated in 0.17 and will raise ValueError in 0.19. Reshape your data either using X.reshape(-1, 1) if your data has a single feature or X.reshape(1, -1) if it contains a single sample.\n",
      "  DeprecationWarning)\n"
     ]
    }
   ],
   "source": [
    "feature_names = list(vctzr.get_feature_names()) + bin_ft + ['n_ingredients', 'n_steps', 'n_words']\n",
    "\n",
    "#Use random forest classifier to select most important models\n",
    "clf = RandomForestClassifier(n_estimators=100)\n",
    "clf.fit(X, Y)\n"
   ]
  },
  {
   "cell_type": "code",
   "execution_count": 15,
   "metadata": {},
   "outputs": [
    {
     "name": "stdout",
     "output_type": "stream",
     "text": [
      "(20047, 5677)\n",
      "most important recipe text features:  ['about', 'add', 'and', 'bowl', 'can', 'combine', 'glass', 'heat', 'in', 'in large', 'into', 'large', 'medium', 'minutes', 'mixture', 'of', 'or', 'over', 'pepper', 'salt', 'serve', 'small', 'stir', 'the', 'to', 'until', 'water', 'with', 'n_ingredients', 'n_steps', 'n_words']\n",
      "number of features selected:  31\n"
     ]
    },
    {
     "name": "stderr",
     "output_type": "stream",
     "text": [
      "/home/alliedtoasters/anaconda3/lib/python3.6/site-packages/sklearn/utils/validation.py:395: DeprecationWarning: Passing 1d arrays as data is deprecated in 0.17 and will raise ValueError in 0.19. Reshape your data either using X.reshape(-1, 1) if your data has a single feature or X.reshape(1, -1) if it contains a single sample.\n",
      "  DeprecationWarning)\n"
     ]
    }
   ],
   "source": [
    "sel = SelectFromModel(clf, prefit=True, threshold=.0015)\n",
    "print(X.shape)\n",
    "X_txt = sel.transform(X)\n",
    "\n",
    "txt_map = list(sel.transform(feature_names).ravel())\n",
    "print('most important recipe text features: ', txt_map)\n",
    "print('number of features selected: ', len(txt_map))"
   ]
  },
  {
   "cell_type": "code",
   "execution_count": null,
   "metadata": {},
   "outputs": [],
   "source": [
    "model_data = pd.DataFrame(data=X_txt, columns=txt_map, index=raw_data.index)\n",
    "model_data['four_stars'] = raw_data['four_stars']\n",
    "Y = model_data['four_stars']\n",
    "\n",
    "svc = SVC(gamma=.03, C=4)\n",
    "cross_val_score(svc, X, Y, cv=5)"
   ]
  },
  {
   "cell_type": "code",
   "execution_count": null,
   "metadata": {
    "collapsed": true
   },
   "outputs": [],
   "source": []
  }
 ],
 "metadata": {
  "hide_input": false,
  "kernelspec": {
   "display_name": "Python 3",
   "language": "python",
   "name": "python3"
  },
  "language_info": {
   "codemirror_mode": {
    "name": "ipython",
    "version": 3
   },
   "file_extension": ".py",
   "mimetype": "text/x-python",
   "name": "python",
   "nbconvert_exporter": "python",
   "pygments_lexer": "ipython3",
   "version": "3.6.1"
  },
  "toc": {
   "colors": {
    "hover_highlight": "#DAA520",
    "running_highlight": "#FF0000",
    "selected_highlight": "#FFD700"
   },
   "moveMenuLeft": true,
   "nav_menu": {
    "height": "12px",
    "width": "252px"
   },
   "navigate_menu": true,
   "number_sections": true,
   "sideBar": true,
   "threshold": 4,
   "toc_cell": false,
   "toc_section_display": "block",
   "toc_window_display": false
  }
 },
 "nbformat": 4,
 "nbformat_minor": 2
}
