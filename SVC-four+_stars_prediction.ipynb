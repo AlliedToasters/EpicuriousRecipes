{
 "cells": [
  {
   "cell_type": "code",
   "execution_count": 1,
   "metadata": {
    "collapsed": true,
    "run_control": {
     "frozen": false,
     "read_only": false
    }
   },
   "outputs": [],
   "source": [
    "import numpy as np\n",
    "import pandas as pd\n",
    "import scipy\n",
    "import matplotlib.pyplot as plt\n",
    "import seaborn as sns\n",
    "from sklearn.svm import SVC\n",
    "from sklearn.model_selection import cross_val_score, GridSearchCV\n",
    "from sklearn.feature_extraction.text import TfidfVectorizer\n",
    "from sklearn.feature_selection import SelectFromModel\n",
    "from sklearn.ensemble import ExtraTreesClassifier, RandomForestClassifier\n",
    "from sklearn import random_projection\n",
    "import datetime\n",
    "from math import e\n",
    "%matplotlib inline\n"
   ]
  },
  {
   "cell_type": "markdown",
   "metadata": {
    "run_control": {
     "frozen": false,
     "read_only": false
    }
   },
   "source": [
    "Epicurious data from [Kaggle](https://www.kaggle.com/hugodarwood/epirecipes). "
   ]
  },
  {
   "cell_type": "code",
   "execution_count": 2,
   "metadata": {
    "run_control": {
     "frozen": false,
     "read_only": false
    }
   },
   "outputs": [
    {
     "name": "stdout",
     "output_type": "stream",
     "text": [
      "dropping 5 rows...\n"
     ]
    }
   ],
   "source": [
    "raw_data = pd.read_csv('epi_r.csv')\n",
    "full = pd.read_json('full_format_recipes.json')\n",
    "\n",
    "bin_ft = list(raw_data.columns)\n",
    "bin_ft.remove('title')\n",
    "bin_ft.remove('rating')\n",
    "bin_ft.remove('calories')\n",
    "bin_ft.remove('fat')\n",
    "bin_ft.remove('protein')\n",
    "bin_ft.remove('sodium')\n",
    "\n",
    "missing = []\n",
    "for row in raw_data.index:      #Find recipes missing from full-form set\n",
    "    if raw_data.loc[row].title not in list(full.title):\n",
    "        missing.append(row) \n",
    "        \n",
    "\n",
    "print('dropping {} rows...'.format(len(missing)))\n",
    "for row in missing:             #Drop the recipes without full-form available\n",
    "    raw_data = raw_data.drop(row)\n",
    "    \n",
    "full_ind = []\n",
    "for row in raw_data.index:      #Record indices for each full-form recipe in order of csv\n",
    "    full_ind.append(list(full[full.title==raw_data.loc[row].title].index)[0])\n"
   ]
  },
  {
   "cell_type": "code",
   "execution_count": 3,
   "metadata": {},
   "outputs": [],
   "source": [
    "#Grab wanted data from complete recipes:\n",
    "categories = []\n",
    "directions = []\n",
    "ingredients = []\n",
    "ratings = []\n",
    "dates = []\n",
    "descrips = []\n",
    "for i in full_ind:\n",
    "    row = full.loc[i]\n",
    "    categories.append(row.categories)                          #List of categories\n",
    "    directions.append(row.directions)                           #List of directions\n",
    "    ingredients.append(row.ingredients)                         #List of ingredients\n",
    "    descrips.append(row.desc)                            #Description when available\n",
    "    ratings.append(row.rating)                                 #Reconcile mismatched ratings\n",
    "    dates.append(row.date)                                     #Get dates\n",
    "    \n",
    "raw_data['full_cats'] = categories                  #append to our df\n",
    "raw_data['full_dir'] = directions\n",
    "raw_data['full_ingr'] = ingredients\n",
    "raw_data['description'] = descrips\n",
    "raw_data.rating = ratings\n",
    "raw_data['date_'] = dates\n",
    "\n",
    "raw_data['four_stars'] = np.where(raw_data.rating>4, 1, 0)\n",
    "raw_data['no_stars'] = np.where(raw_data.rating==0, 1, 0)\n"
   ]
  },
  {
   "cell_type": "code",
   "execution_count": 4,
   "metadata": {},
   "outputs": [],
   "source": [
    "latest_date = raw_data.date_.max()\n",
    "raw_data.t_delta = latest_date-raw_data.date_\n",
    "raw_data.days_old = raw_data.t_delta.apply(lambda x: x.days)\n",
    "raw_data['age'] = raw_data.days_old/raw_data.days_old.max()"
   ]
  },
  {
   "cell_type": "code",
   "execution_count": 5,
   "metadata": {
    "collapsed": true,
    "run_control": {
     "frozen": false,
     "read_only": false
    },
    "scrolled": true
   },
   "outputs": [],
   "source": [
    "#Basic features: lengths of ingredients list, instruction steps, complete instructions\n",
    "def get_length(lst):\n",
    "    length = 0\n",
    "    for step in lst:\n",
    "        length += len(step)\n",
    "    return length\n",
    "\n",
    "#consolidates directions from list to single string\n",
    "def get_full_dir(lst):\n",
    "    doc = ''\n",
    "    for step in lst:\n",
    "        doc += step + ' '\n",
    "    return doc\n",
    "\n",
    "#Build features\n",
    "raw_data['n_ingredients'] = raw_data.full_ingr.apply(len)\n",
    "raw_data.n_ingredients = raw_data.n_ingredients/raw_data.n_ingredients.max()\n",
    "raw_data['n_steps'] = raw_data.full_dir.apply(len)\n",
    "raw_data.n_steps = raw_data.n_steps/raw_data.n_steps.max()\n",
    "raw_data['n_words'] = raw_data.full_dir.apply(get_length)\n",
    "raw_data.n_words = raw_data.n_words/raw_data.n_words.max()\n",
    "raw_data['n_cats'] = raw_data.full_cats.apply(len)\n",
    "raw_data.n_cats = raw_data.n_cats/raw_data.n_cats.max()\n",
    "raw_data['dir_doc'] = raw_data.full_dir.apply(get_full_dir)\n",
    "\n",
    "raw_data['has_desc'] = np.where(raw_data.description, 1, 0)"
   ]
  },
  {
   "cell_type": "code",
   "execution_count": 6,
   "metadata": {},
   "outputs": [],
   "source": [
    "cat = []\n",
    "mean_rating = []\n",
    "class_imb = []\n",
    "rating_std = []\n",
    "freq = []\n",
    "for ft in bin_ft:\n",
    "    cat.append(ft)\n",
    "    df = raw_data[raw_data[ft]==1]\n",
    "    mean_rating.append(df.rating.mean())\n",
    "    class_imb.append(df.four_stars.sum()/len(df))\n",
    "    rating_std.append(df.rating.std())\n",
    "    freq.append(len(df))\n",
    "    \n",
    "result=pd.DataFrame()\n",
    "result['category'] = cat\n",
    "result['mean_rating'] = mean_rating\n",
    "result['class_imbalance'] = class_imb\n",
    "result['rating_std'] = rating_std\n",
    "result['freq'] = freq"
   ]
  },
  {
   "cell_type": "code",
   "execution_count": 7,
   "metadata": {},
   "outputs": [
    {
     "name": "stdout",
     "output_type": "stream",
     "text": [
      "0.5371377263430938\n"
     ]
    }
   ],
   "source": [
    "total_class_imb = raw_data.four_stars.sum()/len(raw_data)\n",
    "print(total_class_imb)\n",
    "result['cb_dev'] = abs(total_class_imb - result['class_imbalance'])"
   ]
  },
  {
   "cell_type": "code",
   "execution_count": 8,
   "metadata": {},
   "outputs": [
    {
     "data": {
      "text/html": [
       "<div>\n",
       "<style>\n",
       "    .dataframe thead tr:only-child th {\n",
       "        text-align: right;\n",
       "    }\n",
       "\n",
       "    .dataframe thead th {\n",
       "        text-align: left;\n",
       "    }\n",
       "\n",
       "    .dataframe tbody tr th {\n",
       "        vertical-align: top;\n",
       "    }\n",
       "</style>\n",
       "<table border=\"1\" class=\"dataframe\">\n",
       "  <thead>\n",
       "    <tr style=\"text-align: right;\">\n",
       "      <th></th>\n",
       "      <th>category</th>\n",
       "      <th>mean_rating</th>\n",
       "      <th>class_imbalance</th>\n",
       "      <th>rating_std</th>\n",
       "      <th>freq</th>\n",
       "      <th>cb_dev</th>\n",
       "    </tr>\n",
       "  </thead>\n",
       "  <tbody>\n",
       "    <tr>\n",
       "      <th>8</th>\n",
       "      <td>alcoholic</td>\n",
       "      <td>2.288174</td>\n",
       "      <td>0.354491</td>\n",
       "      <td>2.218813</td>\n",
       "      <td>835</td>\n",
       "      <td>0.182647</td>\n",
       "    </tr>\n",
       "    <tr>\n",
       "      <th>186</th>\n",
       "      <td>drink</td>\n",
       "      <td>2.398804</td>\n",
       "      <td>0.367985</td>\n",
       "      <td>2.197344</td>\n",
       "      <td>1087</td>\n",
       "      <td>0.169152</td>\n",
       "    </tr>\n",
       "    <tr>\n",
       "      <th>134</th>\n",
       "      <td>cocktail party</td>\n",
       "      <td>2.956564</td>\n",
       "      <td>0.405546</td>\n",
       "      <td>1.930393</td>\n",
       "      <td>1154</td>\n",
       "      <td>0.131592</td>\n",
       "    </tr>\n",
       "    <tr>\n",
       "      <th>520</th>\n",
       "      <td>roast</td>\n",
       "      <td>4.091641</td>\n",
       "      <td>0.667172</td>\n",
       "      <td>0.920815</td>\n",
       "      <td>1319</td>\n",
       "      <td>0.130034</td>\n",
       "    </tr>\n",
       "    <tr>\n",
       "      <th>250</th>\n",
       "      <td>grill</td>\n",
       "      <td>3.963523</td>\n",
       "      <td>0.661922</td>\n",
       "      <td>1.237236</td>\n",
       "      <td>562</td>\n",
       "      <td>0.124784</td>\n",
       "    </tr>\n",
       "  </tbody>\n",
       "</table>\n",
       "</div>"
      ],
      "text/plain": [
       "           category  mean_rating  class_imbalance  rating_std  freq    cb_dev\n",
       "8         alcoholic     2.288174         0.354491    2.218813   835  0.182647\n",
       "186           drink     2.398804         0.367985    2.197344  1087  0.169152\n",
       "134  cocktail party     2.956564         0.405546    1.930393  1154  0.131592\n",
       "520           roast     4.091641         0.667172    0.920815  1319  0.130034\n",
       "250           grill     3.963523         0.661922    1.237236   562  0.124784"
      ]
     },
     "execution_count": 8,
     "metadata": {},
     "output_type": "execute_result"
    }
   ],
   "source": [
    "result.loc[result[result.freq>500].cb_dev.sort_values(ascending=False).index].head()"
   ]
  },
  {
   "cell_type": "code",
   "execution_count": 9,
   "metadata": {},
   "outputs": [],
   "source": [
    "features=[\n",
    "    'drink',\n",
    "    'bon appétit',\n",
    "    'gin',\n",
    "    'house & garden',\n",
    "    'alcoholic',\n",
    "    'goat cheese',\n",
    "    'roast',\n",
    "    'family reunion',\n",
    "    'cabbage',\n",
    "    'fourth of july',\n",
    "    'thanksgiving',\n",
    "    'low fat',\n",
    "    'low carb',\n",
    "    'christmas'\n",
    "]\n"
   ]
  },
  {
   "cell_type": "code",
   "execution_count": 10,
   "metadata": {},
   "outputs": [],
   "source": [
    "def get_features(result, min_freq=500, n_features=30):\n",
    "    df = result.loc[result[result.freq >= min_freq].cb_dev.sort_values(ascending=False).index]\n",
    "    cutoff = int(n_features/2)\n",
    "    df_top = list(df[:cutoff].category)\n",
    "    df_bom = list(df[-cutoff:].category)\n",
    "    return df_top + df_bom\n",
    "\n",
    "fts = get_features(result, n_features=24, min_freq=500)"
   ]
  },
  {
   "cell_type": "code",
   "execution_count": 11,
   "metadata": {},
   "outputs": [
    {
     "data": {
      "text/plain": [
       "['alcoholic',\n",
       " 'drink',\n",
       " 'cocktail party',\n",
       " 'roast',\n",
       " 'grill',\n",
       " 'thanksgiving',\n",
       " 'low fat',\n",
       " 'christmas',\n",
       " 'backyard bbq',\n",
       " 'grill/barbecue',\n",
       " 'pasta',\n",
       " 'yogurt',\n",
       " 'citrus',\n",
       " 'carrot',\n",
       " 'sauté',\n",
       " 'egg',\n",
       " 'spring',\n",
       " 'lime',\n",
       " 'soup/stew',\n",
       " 'picnic',\n",
       " 'kid-friendly',\n",
       " 'vegetarian',\n",
       " 'breakfast',\n",
       " 'dairy free']"
      ]
     },
     "execution_count": 11,
     "metadata": {},
     "output_type": "execute_result"
    }
   ],
   "source": [
    "fts"
   ]
  },
  {
   "cell_type": "code",
   "execution_count": 13,
   "metadata": {},
   "outputs": [
    {
     "name": "stdout",
     "output_type": "stream",
     "text": [
      "0.599242592142 0.00513893522897\n"
     ]
    }
   ],
   "source": [
    "samp = raw_data\n",
    "X = samp[['n_ingredients', 'n_steps', 'n_words', 'n_cats', 'age', 'has_desc'] + features]\n",
    "Y = samp['four_stars']\n",
    "\n",
    "svc = SVC(C=43, gamma=.145)\n",
    "rslt = cross_val_score(svc, X, Y, cv=5)\n",
    "print(rslt.mean(), rslt.std())"
   ]
  },
  {
   "cell_type": "code",
   "execution_count": 14,
   "metadata": {},
   "outputs": [
    {
     "data": {
      "text/plain": [
       "0.5371377263430938"
      ]
     },
     "execution_count": 14,
     "metadata": {},
     "output_type": "execute_result"
    }
   ],
   "source": [
    "total_class_imb"
   ]
  },
  {
   "cell_type": "markdown",
   "metadata": {},
   "source": [
    "<H2>Conclusion</H2><br>\n",
    "After all this work, I'm able to predict ratings above or before the four star threshold to a little over 6% better than random guessing."
   ]
  },
  {
   "cell_type": "code",
   "execution_count": null,
   "metadata": {
    "collapsed": true
   },
   "outputs": [],
   "source": []
  }
 ],
 "metadata": {
  "hide_input": false,
  "kernelspec": {
   "display_name": "Python 3",
   "language": "python",
   "name": "python3"
  },
  "language_info": {
   "codemirror_mode": {
    "name": "ipython",
    "version": 3
   },
   "file_extension": ".py",
   "mimetype": "text/x-python",
   "name": "python",
   "nbconvert_exporter": "python",
   "pygments_lexer": "ipython3",
   "version": "3.6.1"
  },
  "toc": {
   "colors": {
    "hover_highlight": "#DAA520",
    "running_highlight": "#FF0000",
    "selected_highlight": "#FFD700"
   },
   "moveMenuLeft": true,
   "nav_menu": {
    "height": "12px",
    "width": "252px"
   },
   "navigate_menu": true,
   "number_sections": true,
   "sideBar": true,
   "threshold": 4,
   "toc_cell": false,
   "toc_section_display": "block",
   "toc_window_display": false
  }
 },
 "nbformat": 4,
 "nbformat_minor": 2
}
